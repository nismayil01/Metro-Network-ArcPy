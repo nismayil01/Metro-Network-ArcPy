{
 "cells": [
  {
   "cell_type": "code",
   "execution_count": 1,
   "id": "836ac595",
   "metadata": {},
   "outputs": [],
   "source": [
    "import arcpy\n",
    "import os\n",
    "import random\n",
    "\n",
    "# Set the workspace and GDB name\n",
    "workspace = r\"C:\\Users\\nismayil\\OneDrive - Texas Tech University\\GeoStatistics\\Lab11\"\n",
    "gdb_name = \"featureGDB.gdb\"\n",
    "\n",
    "# Create the GDB\n",
    "gdb_path = os.path.join(workspace, gdb_name)\n",
    "if not arcpy.Exists(gdb_path):\n",
    "    arcpy.CreateFileGDB_management(workspace, gdb_name)\n",
    "\n",
    "# Set the GDB as the workspace\n",
    "arcpy.env.workspace = gdb_path"
   ]
  },
  {
   "cell_type": "code",
   "execution_count": 2,
   "id": "f72e9042",
   "metadata": {},
   "outputs": [
    {
     "data": {
      "text/html": [
       "<div class='gpresult'><h2>Messages</h2><div id='messages' data-messages='[\"Start Time: Monday, November 6, 2023 3:21:55 PM\",\"Succeeded at Monday, November 6, 2023 3:21:57 PM (Elapsed Time: 1.18 seconds)\"]' data-show='true'><div id = 'default' /></div></div>"
      ],
      "text/plain": [
       "<Result 'C:\\\\Users\\\\nismayil\\\\OneDrive - Texas Tech University\\\\GeoStatistics\\\\Lab11\\\\featureGDB.gdb\\\\RandomPoints'>"
      ]
     },
     "execution_count": 2,
     "metadata": {},
     "output_type": "execute_result"
    }
   ],
   "source": [
    "# Create a feature class (point)\n",
    "fc_name = \"RandomPoints\"\n",
    "spatial_reference = arcpy.SpatialReference(4326)  # WGS84\n",
    "arcpy.CreateFeatureclass_management(gdb_path, fc_name, \"POINT\", spatial_reference=spatial_reference)"
   ]
  },
  {
   "cell_type": "code",
   "execution_count": 3,
   "id": "df4396a8",
   "metadata": {},
   "outputs": [],
   "source": [
    "# Define a random point within Lubbock, Texas\n",
    "lon = -101.85\n",
    "lat = 33.53\n",
    "\n",
    "# Create a new point feature\n",
    "with arcpy.da.InsertCursor(fc_name, [\"SHAPE@XY\"]) as cursor:  #for point data\n",
    "    point = (lon, lat)\n",
    "    cursor.insertRow([point])"
   ]
  },
  {
   "cell_type": "code",
   "execution_count": 4,
   "id": "4ea43610",
   "metadata": {},
   "outputs": [],
   "source": [
    "# OR if you have multiple points\n",
    "# List of latitude and longitude coordinates as a list of lists\n",
    "coordinates = [\n",
    "    (-101.8488,33.5833),  # Lubbock, Texas\n",
    "    (-101.8448,33.5813),  # Another point\n",
    "    (-101.8428,33.5863)   # Yet another point\n",
    "]\n",
    "\n",
    "# Create a new point feature for each set of coordinates\n",
    "with arcpy.da.InsertCursor(fc_name, [\"SHAPE@XY\"]) as cursor:\n",
    "    for coord in coordinates:\n",
    "        cursor.insertRow([coord])"
   ]
  },
  {
   "cell_type": "code",
   "execution_count": 5,
   "id": "c639d7f9",
   "metadata": {},
   "outputs": [
    {
     "name": "stdout",
     "output_type": "stream",
     "text": [
      "OBJECTID: 1 Shape: (-101.84999999999997, 33.53000000000003)\n",
      "OBJECTID: 2 Shape: (-101.84879999999998, 33.583300000000065)\n",
      "OBJECTID: 3 Shape: (-101.84479999999996, 33.581300000000056)\n",
      "OBJECTID: 4 Shape: (-101.84279999999995, 33.58630000000005)\n"
     ]
    }
   ],
   "source": [
    "# Search Cursor\n",
    "\n",
    "# Create a SearchCursor to retrieve values\n",
    "with arcpy.da.SearchCursor(fc_name, [\"OBJECTID\", \"Shape\"]) as cursor:\n",
    "    for row in cursor:\n",
    "        field1_value, field2_value = row\n",
    "        print(\"OBJECTID:\",field1_value, \"Shape:\",field2_value) #default level of precision changes "
   ]
  },
  {
   "cell_type": "code",
   "execution_count": 6,
   "id": "f2450bdc",
   "metadata": {},
   "outputs": [
    {
     "data": {
      "text/html": [
       "<div class='gpresult'><h2>Messages</h2><div id='messages' data-messages='[\"Start Time: Monday, November 6, 2023 3:29:07 PM\",\"Adding Site_Name to RandomPoints...\",\"Succeeded at Monday, November 6, 2023 3:29:08 PM (Elapsed Time: 0.29 seconds)\"]' data-show='true'><div id = 'default' /></div></div>"
      ],
      "text/plain": [
       "<Result 'RandomPoints'>"
      ]
     },
     "execution_count": 6,
     "metadata": {},
     "output_type": "execute_result"
    }
   ],
   "source": [
    "# Create a new field\n",
    "field_name = \"Site_Name\"\n",
    "arcpy.AddField_management(fc_name, field_name, \"TEXT\")"
   ]
  },
  {
   "cell_type": "code",
   "execution_count": 7,
   "id": "411185d3",
   "metadata": {},
   "outputs": [],
   "source": [
    "# Update Cursor\n",
    "\n",
    "# Create an UpdateCursor to populate the \"Site_Name\" field\n",
    "with arcpy.da.UpdateCursor(fc_name, field_name) as cursor:\n",
    "    site_number = 0\n",
    "    for row in cursor:\n",
    "        row[0] = \"Site\" +str(site_number)\n",
    "        cursor.updateRow(row)\n",
    "        site_number = site_number+1"
   ]
  },
  {
   "cell_type": "code",
   "execution_count": 8,
   "id": "251b85fe",
   "metadata": {},
   "outputs": [],
   "source": [
    "# Insert Cursor\n",
    "# Create a point to insert\n",
    "new_point = (-101.845, 33.575)  # Replace with your desired latitude and longitude #objectid updates automatically \n",
    "\n",
    "\n",
    "# Use an InsertCursor to insert the new point\n",
    "with arcpy.da.InsertCursor(fc_name, [\"SHAPE@XY\", \"Site_Name\"]) as cursor:\n",
    "    cursor.insertRow([(new_point[0], new_point[1]), \"Site_New\"])"
   ]
  },
  {
   "cell_type": "code",
   "execution_count": null,
   "id": "6be30ff3",
   "metadata": {},
   "outputs": [],
   "source": []
  }
 ],
 "metadata": {
  "kernelspec": {
   "display_name": "Python 3",
   "language": "python",
   "name": "python3"
  },
  "language_info": {
   "codemirror_mode": {
    "name": "ipython",
    "version": 3
   },
   "file_extension": ".py",
   "mimetype": "text/x-python",
   "name": "python",
   "nbconvert_exporter": "python",
   "pygments_lexer": "ipython3",
   "version": "3.9.11"
  }
 },
 "nbformat": 4,
 "nbformat_minor": 5
}
